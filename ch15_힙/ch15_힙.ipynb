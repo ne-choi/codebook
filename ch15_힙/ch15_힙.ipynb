{
 "cells": [
  {
   "cell_type": "markdown",
   "metadata": {},
   "source": [
    "# 15장 힙"
   ]
  },
  {
   "cell_type": "markdown",
   "metadata": {},
   "source": [
    "## 개요"
   ]
  },
  {
   "cell_type": "markdown",
   "metadata": {},
   "source": [
    "> **힙은 힙의 특성을 만족하는 거의 완전한 트리인 특수한 트리 기반의 자료구조다.**  \n",
    "> *힙의 특성: 최소 힙에서는 부모가 항상 자식보다 작거나 같다.*  \n",
    "\n",
    "- 우선순위 큐를 사용할때 매번 활용했던 heapq 모듈이 바로 힙으로 구현되어 있으며, 그중에서도 파이썬에는 최소 힙만 구현되어 있다.  \n",
    "- 최소 힙은 부모가 항상 자식보다 작기 때문에 루트가 결국 가장 작은 값을 갖게 되며, 우선순위 큐에서 가장 작은 값을 추출하는 것은 매번 힙의 루트를 가져오는 형태로 구현된다.  \n",
    "- 힙은 정렬된 구조가 아니다. 최소 힙의 경우 부모 노드가 항상 작다는 조건만 만족할 뿐, 서로 정렬되어 있지 않다."
   ]
  },
  {
   "cell_type": "markdown",
   "metadata": {},
   "source": [
    "![](https://user-images.githubusercontent.com/72365720/103308145-14687e00-4a55-11eb-9203-33c951954111.png)"
   ]
  },
  {
   "cell_type": "markdown",
   "metadata": {},
   "source": [
    "그림 15-1  \n",
    "- 부모는 항상 자식보다 작을 뿐, 좌우의 정렬 관계는 제각각이다.\n",
    "- 여기서는 대부분 왼쪽이 오른쪽보다 작지만, 14의 자식 노드인 33과 17은 왼쪽이 오른쪽보다 더 크다.\n",
    "- 자식이 둘인 힙은 특별히 이진 힙이라 하며, 대부분은 이진 힙이 널리 사용된다. 트리 중에서 이진 트리가 널리 사용되는 이유와 비슷하다.  \n",
    "\n",
    "힙은 완전 이진 트리이기 때문에 배열에 순서대로 표현하기에 적합하다."
   ]
  },
  {
   "cell_type": "markdown",
   "metadata": {},
   "source": [
    "![](https://user-images.githubusercontent.com/72365720/103308305-7b863280-4a55-11eb-893f-a6cdd4ab5231.png)"
   ]
  },
  {
   "cell_type": "markdown",
   "metadata": {},
   "source": [
    "그림 15-2\n",
    "- 이진 힙의 배열 표현이며, 이처럼 루트부터 차례대로 나열하면 1, 2, 4, … 순서대로 각 레벨의 노드가 2배씩 증가하는 형태로 배열에 나열할 수 있다.  \n",
    "- 2)처럼 완전 이진 트리 형태인 이진 힙은 배열에 빈틈없이 배치가 가능하며, 대개 트리의 배열 표현의 경우 계산을 편하게 하기 위해 인덱스는 1부터 사용한다.  \n",
    "\n",
    "힙은 항상 균형을 유지하는 특징 때문에 다양한 분야에 널리 활용된다."
   ]
  },
  {
   "cell_type": "markdown",
   "metadata": {},
   "source": [
    "## 힙 연산"
   ]
  },
  {
   "cell_type": "markdown",
   "metadata": {},
   "source": [
    "### 클래스 정의"
   ]
  },
  {
   "cell_type": "code",
   "execution_count": 5,
   "metadata": {},
   "outputs": [],
   "source": [
    "class BinaryHeap(object):\n",
    "    def __init__(self):\n",
    "        self.items = [None]\n",
    "    \n",
    "    def __len__(self):\n",
    "        return len(self.items) - 1"
   ]
  },
  {
   "cell_type": "markdown",
   "metadata": {},
   "source": [
    "- 클래스의 뼈대를 만들고, `__len__()` 메소드를 정의했다.\n",
    "- `__len__()`처럼 밑줄(_) 2개로 둘러싸인 함수는 파이썬의 매직 메소드로 여러 가지 내부 기능이 동작되는 데 사용된다.\n",
    "- 예를 들어 `len(a)`를 하게 되면, 내부적으로 `a.__len__()`을 호출하여 이 결과를 리턴하게 된다.  \n",
    "- 마지막 요소의 인덱스를 가져오기 위해 실제 길이보다 하나 더 작은 값을 가져오도록 구현해뒀다.\n",
    "- 0번 인덱스는 사용하지 않기 위해 None을 미리 설정해뒀다.\n",
    "- 대개 트리의 배열 표현의 경우 인덱스 계산을 편하게 하기 위해 인덱스는 1부터 사용한다. 특히 이진 힙에서는 항상 1번 인덱스부터 사용한다."
   ]
  },
  {
   "cell_type": "markdown",
   "metadata": {},
   "source": [
    "### 삽입"
   ]
  },
  {
   "cell_type": "markdown",
   "metadata": {},
   "source": [
    "- 힙에 요소를 삽입하기 위해서는 업힙 연산을 수행해야 한다.  \n",
    "- 일반적으로 업힙 연산은 percolate_up()이라는 함수로 정의한다.  \n",
    "\n",
    "**힙에 요소를 삽입하는 과정**\n",
    "1. 요소를 가장 하위 레벨의 최대한 왼쪽으로 삽입한다(배열로 표현할 경우 가장 마지막에 삽입한다).\n",
    "2. 부모 값과 비교해 값이 더 작은 경우 위치를 변경한다.\n",
    "3. 계속해서 부모 값과 비교해 위치를 변경한다(가장 작은 값일 경우 루트까지 올라감)."
   ]
  },
  {
   "cell_type": "markdown",
   "metadata": {},
   "source": [
    "![](https://user-images.githubusercontent.com/72365720/103308896-ee43dd80-4a56-11eb-9212-a50f44cdea8e.png)"
   ]
  },
  {
   "cell_type": "markdown",
   "metadata": {},
   "source": [
    "그림 15-3  \n",
    "- 신규 아이템 7이 마지막에 삽입되어, 부모 노드의 값과 비교하면서 점점 스왑되는 과정이 잘 나타나 있다.  \n",
    "- 두 번째 스왑 이후에야 부모 노드인 5보다 더 크기 때문에, 더 이상 스왑되지 않고 멈추는 걸 확인할 수 있다."
   ]
  },
  {
   "cell_type": "code",
   "execution_count": null,
   "metadata": {},
   "outputs": [],
   "source": [
    "def _percolate_up(self):\n",
    "    i = len(self)\n",
    "    parent = i // 2\n",
    "    while parent > 0:\n",
    "        if self.items[i] < self.items[parent]:\n",
    "            self.items[parent], self.items[i] = \\\n",
    "                self.items[i], self.items[parent]\n",
    "        i = parent\n",
    "        parent = i // 2\n",
    "        \n",
    "def insert(self, k):\n",
    "    self.items.append(k)\n",
    "    self._percolate_up()"
   ]
  },
  {
   "cell_type": "markdown",
   "metadata": {},
   "source": [
    "- 삽입 자체는 `insert()` 함수를 호출해 실행된다.  \n",
    "- 코드에서 `insert()` 함수의 `self.items.append()`는 1번 과정이고, `percolate_up()` 함수는 2번, 3번 과정이다.  \n",
    "- 이 과정을 통해 그림 15-3에서 7은 5보다는 크기 때문에 루트까지는 될 수 없고, 계속 스왑되다가 두 번째 레벨에 안착하게 된다.  \n",
    "- 시간 복잡도는 O(log n)이다. `_percolate_up()` 함수를 보면 parent를 i // 2로 약 절반씩 줄여나가는 형태이므로 로그만큼 연산을 수행하는 것을 알수 있다."
   ]
  },
  {
   "cell_type": "markdown",
   "metadata": {},
   "source": [
    "### 추출"
   ]
  },
  {
   "cell_type": "markdown",
   "metadata": {},
   "source": [
    "- 추출 자체는 매우 간단하다. 루트를 추출하면 된다.  \n",
    "- 추출 이후에 다시 힙의 특성을 유지하는 작업이 필요하기 때문에 시간 복잡도는 O(log n)이다."
   ]
  },
  {
   "cell_type": "markdown",
   "metadata": {},
   "source": [
    "![](https://user-images.githubusercontent.com/72365720/103309348-3ca5ac00-4a58-11eb-8cb3-2f18196f6b84.png)"
   ]
  },
  {
   "cell_type": "markdown",
   "metadata": {},
   "source": [
    "그림 15-4\n",
    "- 추출 이후에 비어 있는 루트에는 가장 마지막 요소가 올라가게 되고, 이번에는 반대로 자식 노드와 값을 비교해서 자식보다 크다면 내려가는 다운힙연산이 수행된다.  "
   ]
  },
  {
   "cell_type": "code",
   "execution_count": null,
   "metadata": {},
   "outputs": [],
   "source": [
    "class BinaryHeap(object):\n",
    "    def __init__(self):\n",
    "        self.items = [None]\n",
    "        \n",
    "    def __len__(self):\n",
    "        return len(self.items) - 1\n",
    "    \n",
    "    # 삽입 시 실행, 반복 구조 구현\n",
    "    def _percolate_up(self):\n",
    "        i = len(self)\n",
    "        # 부모 노드를 구하는 코드를 보면 2를 나눈 올림값으로 정리되며,\n",
    "        parent = i // 2\n",
    "        while parent > 0:\n",
    "            if self.items[i] < self.items[parent]:\n",
    "                self.items[parent], self.items[i] = \\\n",
    "                    self.items[i], self.items[parent]\n",
    "            i = parent\n",
    "            parent = i // 2\n",
    "        \n",
    "    # 기존 파이썬 heap 모듈의 heapq.heappush()는 insert()에 대응된다.\n",
    "    def insert(self, k):\n",
    "        self.items.append(k)\n",
    "        self._percolate_up()\n",
    "        \n",
    "    # 추출시 실행, 재귀 구조 구현\n",
    "    def _percolate_down(self, idx):\n",
    "        # 자식노드도 왼쪽, 오른쪽 각각이 i * 2, i * 2 + 1로 깔끔하게 계산이 처리된다.\n",
    "        left = idx * 2\n",
    "        right = idx * 2 + 1\n",
    "        smallest = idx\n",
    "        \n",
    "        # 각각 왼쪽과 오른쪽 자식을 비교하고 더 작다면 해당 인덱스로 교체한다.\n",
    "        if left <= len(self) and self.items[left] < self.items[smallest]:\n",
    "            smallest = left\n",
    "            \n",
    "        if right <= len(self) and self.items[right] < self.items[smallest]:\n",
    "            smallest = right\n",
    "            \n",
    "        # 인덱스가 교체되었다면 서로 값을 스왑하고 다시 재귀 호출한다.\n",
    "        # 값이 스왑되지 않을 때까지 계속 자식 노드로 내려가면서 스왑될 것이다.\n",
    "        # 즉 힙 특성이 유지될 때까지 계속 반복해서 재귀 호출된다\n",
    "        if smallest != idx:\n",
    "            self.items[idx], self.items[smallest] = \\\n",
    "                self.items[smallest], self.items[idx]\n",
    "            self._percolate_down(smallest)\n",
    "        \n",
    "    # 추출 자체는 extract() 함수를 호출해 실행된다.\n",
    "    # 기존 파이썬 heap 모듈의 heapq.heappop()은 extract()에 대응된다.\n",
    "    def extract(self):\n",
    "        extracted = self.items[1]\n",
    "        self.items[1] = self.items[len(self)]\n",
    "        self.items.pop()\n",
    "        self._percolate_down(1)\n",
    "        return extracted"
   ]
  },
  {
   "cell_type": "markdown",
   "metadata": {},
   "source": [
    "## 문제55 배열의 K번째 큰 요소"
   ]
  },
  {
   "cell_type": "markdown",
   "metadata": {},
   "source": [
    "Q. 정렬되지 않은 배열에서 k번째 큰 요소를 추출하라.  \n",
    "\n",
    "입력  \n",
    "[3,2,3,1,2,4,5,5,6], k = 4  \n",
    "\n",
    "출력  \n",
    "4"
   ]
  },
  {
   "cell_type": "markdown",
   "metadata": {},
   "source": [
    "### 풀이1 heapq 모듈 이용"
   ]
  },
  {
   "cell_type": "code",
   "execution_count": 1,
   "metadata": {},
   "outputs": [
    {
     "name": "stdout",
     "output_type": "stream",
     "text": [
      "4\n"
     ]
    }
   ],
   "source": [
    "import heapq\n",
    "from typing import List\n",
    "\n",
    "\n",
    "class Solution:\n",
    "    def findKthLargest(self, nums: List[int], k: int) -> int:\n",
    "        heap = list()\n",
    "        for n in nums:\n",
    "            heapq.heappush(heap, -n)\n",
    "\n",
    "        for _ in range(1, k):\n",
    "            heapq.heappop(heap)\n",
    "\n",
    "        return -heapq.heappop(heap)\n",
    "\n",
    "\n",
    "if __name__ == '__main__':\n",
    "    s = Solution()\n",
    "    print(s.findKthLargest([3,2,3,1,2,4,5,5,6], k = 4))"
   ]
  },
  {
   "cell_type": "markdown",
   "metadata": {},
   "source": [
    "- 11장의 31번 문제 ‘상위 K 빈도 요소’와 비슷한 문제다. 다른 점이라면 가장 큰 값이냐, 가장 빈번한 값이냐의 차이 정도다.  \n",
    "- Counter()로 빈도 수를 계산해 삽입했던 예전 풀이 대신 값 자체를 힙에 푸시하고 순서만큼 팝하는 형태로 수정해본다.  \n",
    "- 파이썬 heapq 모듈은 최소 힙만 지원하므로, 음수로 저장한 다음 가장 낮은 수부터 추출해 부호를 변환하면 최대 힙처럼 동작하도록 이와 같이 깔끔하게 구현할 수 있다."
   ]
  },
  {
   "cell_type": "markdown",
   "metadata": {},
   "source": [
    "### 풀이2 heapq 모듈의 heapify 이용"
   ]
  },
  {
   "cell_type": "code",
   "execution_count": 2,
   "metadata": {},
   "outputs": [
    {
     "name": "stdout",
     "output_type": "stream",
     "text": [
      "4\n"
     ]
    }
   ],
   "source": [
    "import heapq\n",
    "from typing import List\n",
    "\n",
    "\n",
    "class Solution:\n",
    "    def findKthLargest(self, nums: List[int], k: int) -> int:\n",
    "        heapq.heapify(nums)\n",
    "\n",
    "        for _ in range(len(nums) - k):\n",
    "            heapq.heappop(nums)\n",
    "\n",
    "        return heapq.heappop(nums)\n",
    "\n",
    "\n",
    "if __name__ == '__main__':\n",
    "    s = Solution()\n",
    "    print(s.findKthLargest([3,2,3,1,2,4,5,5,6], k = 4))"
   ]
  },
  {
   "cell_type": "markdown",
   "metadata": {},
   "source": [
    "- 모든 값을 꺼내서 푸시하지 않고도 한 번에 heapify()하여 처리할 수 있다.  \n",
    "- heapify()란 주어진 자료구조가 힙 특성을 만족하도록 바꿔주는 연산이며, 이 경우 파이썬의 일반적인 리스트는 힙 특성을 만족하는 리스트로, 값의 위치가 변경된다.  \n",
    "- 물론 하나라도 값을 추가하면 다시 힙 특성이 깨지지만, 추가가 계속 일어나는 형태가 아니기 때문에 heapify()는 한 번만 해도 충분하다."
   ]
  },
  {
   "cell_type": "markdown",
   "metadata": {},
   "source": [
    "### 풀이3 heapq 모듈의 nlargest 이용"
   ]
  },
  {
   "cell_type": "code",
   "execution_count": 3,
   "metadata": {},
   "outputs": [
    {
     "name": "stdout",
     "output_type": "stream",
     "text": [
      "4\n"
     ]
    }
   ],
   "source": [
    "import heapq\n",
    "from typing import List\n",
    "\n",
    "\n",
    "class Solution:\n",
    "    def findKthLargest(self, nums: List[int], k: int) -> int:\n",
    "        return heapq.nlargest(k, nums)[-1]\n",
    "\n",
    "\n",
    "if __name__ == '__main__':\n",
    "    s = Solution()\n",
    "    print(s.findKthLargest([3,2,3,1,2,4,5,5,6], k = 4))"
   ]
  },
  {
   "cell_type": "markdown",
   "metadata": {},
   "source": [
    "- heapq 모듈은 n 번째 큰 값을 추출하는 강력한 기능도 있다. 이 기능을 사용하면, 전체 코드를 위와 같이 한 줄로 처리할 수 있다.  \n",
    "- k번째만큼 큰 값이 가장 큰 값부터 순서대로 리스트로 리턴된다. 여기서 마지막 인덱스 -1이 k번째 값이 된다.  \n",
    "- 힙이 아니라도 내부적으로 heapify() 함수도 호출해 처리해주기 때문에, 별도로 힙 처리를 할 필요가 없어 편리하다.  \n",
    "- 참고로 nsmallest()를 사용하면 동일한 방식으로 n번째 작은 값도 추출이 가능하다."
   ]
  },
  {
   "cell_type": "markdown",
   "metadata": {},
   "source": [
    "### 풀이4 정렬을 이용한 풀이"
   ]
  },
  {
   "cell_type": "code",
   "execution_count": 4,
   "metadata": {},
   "outputs": [
    {
     "name": "stdout",
     "output_type": "stream",
     "text": [
      "4\n"
     ]
    }
   ],
   "source": [
    "from typing import List\n",
    "\n",
    "\n",
    "class Solution:\n",
    "    def findKthLargest(self, nums: List[int], k: int) -> int:\n",
    "        return sorted(nums, reverse=True)[k - 1]\n",
    "\n",
    "\n",
    "if __name__ == '__main__':\n",
    "    s = Solution()\n",
    "    print(s.findKthLargest([3,2,3,1,2,4,5,5,6], k = 4))"
   ]
  },
  {
   "cell_type": "markdown",
   "metadata": {},
   "source": [
    "- 정렬부터 한 다음, k번째 값을 추출하는 방식으로 풀이해보자.  \n",
    "- 추가, 삭제가 빈번할 때는 heapq를 이용한 힙 정렬이 유용하지만, 이처럼 입력값이 고정되어 있을 때는 그저 한 번 정렬하는 것만으로 충분하다.  \n",
    "- sorted()로 큰 값부터 역순으로 정렬하면, 위과 같이 좀 더 직관적인 풀이도 가능하다."
   ]
  },
  {
   "cell_type": "markdown",
   "metadata": {},
   "source": [
    "- 모든 방식은 실행 속도에 큰 차이가 없으나 ‘정렬’ 방식이 가장 빠르다.  \n",
    "- 파이썬의 정렬 함수는 팀소트를 사용하며 C로 매우 정교하게 구현되어 있기 때문에, 대부분의 경우에는 파이썬의 내부 정렬 함수를 사용하는 편이 가장 성능이 좋다."
   ]
  }
 ],
 "metadata": {
  "kernelspec": {
   "display_name": "Python 3",
   "language": "python",
   "name": "python3"
  },
  "language_info": {
   "codemirror_mode": {
    "name": "ipython",
    "version": 3
   },
   "file_extension": ".py",
   "mimetype": "text/x-python",
   "name": "python",
   "nbconvert_exporter": "python",
   "pygments_lexer": "ipython3",
   "version": "3.8.5"
  }
 },
 "nbformat": 4,
 "nbformat_minor": 4
}
